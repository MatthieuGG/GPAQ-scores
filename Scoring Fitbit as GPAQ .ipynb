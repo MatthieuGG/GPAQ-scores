{
 "cells": [
  {
   "cell_type": "markdown",
   "id": "d6391488",
   "metadata": {},
   "source": [
    "# Scoring Fitbit as GPAQ"
   ]
  },
  {
   "cell_type": "code",
   "execution_count": 1,
   "id": "9e854cb4",
   "metadata": {},
   "outputs": [],
   "source": [
    "import numpy as np\n",
    "import pandas as pd\n",
    "import os"
   ]
  },
  {
   "cell_type": "markdown",
   "id": "6af80ae4",
   "metadata": {},
   "source": [
    "## Import files"
   ]
  },
  {
   "cell_type": "code",
   "execution_count": 5,
   "id": "40e45637",
   "metadata": {},
   "outputs": [],
   "source": [
    "path_min = '' #insert the path you filled with all .csv files\n",
    "\n",
    "data_dict = {}\n",
    "\n",
    "for file_name in os.listdir(path_min):\n",
    "    if file_name.endswith('.csv'):  #to only import .csv files and avoid any temporal file\n",
    "        file_path = os.path.join(path_min, file_name)\n",
    "        key = file_name\n",
    "        df = pd.read_csv(file_path)\n",
    "        df['ActivityMinute'] = pd.to_datetime(df['ActivityMinute'])\n",
    "        df = df.set_index('ActivityMinute')\n",
    "        data_dict[key] = df"
   ]
  },
  {
   "cell_type": "markdown",
   "id": "f680f75a",
   "metadata": {},
   "source": [
    "### Method 1 : using Fitbit PA intensity scale rating\n",
    "- Intensity = 0 : sed\n",
    "- Intensity = 2 : MVPA\n",
    "- Intensity = 3 : VPA\n",
    "- over Intensity = 2 : PAtot (MVPA + VPA)　**WARNING This is highly discutable! Not considering LVPA (Intensity = 1) in the PA total calculation**"
   ]
  },
  {
   "cell_type": "code",
   "execution_count": 7,
   "id": "3d79f6f6",
   "metadata": {},
   "outputs": [],
   "source": [
    "################ VPA & MVPA based on FITBIT Intensity\n",
    "for key in data_dict:\n",
    "    # 1. Create a new columns 'Intensity FITBIT'\n",
    "    data_dict[key]['IntensityFITBIT'] = None\n",
    "    \n",
    "    # 2. Define this column according to the Intensity column values\n",
    "    data_dict[key].loc[data_dict[key]['Intensity'] == 0, 'IntensityFITBIT'] = 'sed'\n",
    "    data_dict[key].loc[data_dict[key]['Intensity']==2, 'IntensityFITBIT'] = 'MVPA'\n",
    "    data_dict[key].loc[data_dict[key]['Intensity']==3, 'IntensityFITBIT'] = 'VPA'\n",
    "\n",
    "#create a new dictionary that will contain the results of Method 1\n",
    "resampled_IntensityFITBIT = {}\n",
    "\n",
    "for key, df in data_dict.items():\n",
    "    df['IntensityFITBIT'] = df['IntensityFITBIT'].astype('category')\n",
    "    df.index = pd.to_datetime(df.index)\n",
    "    \n",
    "    # count the number of minutes per day (VPA, MVPA, sed)\n",
    "    resampled_df = pd.DataFrame()\n",
    "    resampled_df['sedMinutes_IntensityFITBIT'] = df[df['IntensityFITBIT'] == 'sed'].resample('D').size()\n",
    "    resampled_df['MVPAMinutes_IntensityFITBIT'] = df[df['IntensityFITBIT'] == 'MVPA'].resample('D').size()\n",
    "    resampled_df['VPAMinutes_IntensityFITBIT'] = df[df['IntensityFITBIT'] == 'VPA'].resample('D').size()\n",
    "    resampled_df = resampled_df.fillna(0)\n",
    "\n",
    "    # count the equivalent in MET per day\n",
    "    resampled_df['MVPA_IntensityFITBIT'] = resampled_df['MVPAMinutes_IntensityFITBIT'] * 4\n",
    "    resampled_df['VPA_IntensityFITBIT'] = resampled_df['VPAMinutes_IntensityFITBIT'] * 8\n",
    "    resampled_df['PAtot_IntensityFITBIT'] = resampled_df['MVPA_IntensityFITBIT'] + resampled_df['VPA_IntensityFITBIT']\n",
    "    resampled_df['USABLE_IntensityFITBIT'] = resampled_df['PAtot_IntensityFITBIT'].apply(lambda x: x > 0)\n",
    "\n",
    "    resampled_IntensityFITBIT[key] = resampled_df"
   ]
  },
  {
   "cell_type": "markdown",
   "id": "e843d0fb",
   "metadata": {},
   "source": [
    "### Method 2 : using GPAQ criteria on Fitbit data\n",
    "- under 1.5 MET : sed\n",
    "- between 4 and 7.9 MET : MVPA\n",
    "- over 8 : VPA\n",
    "- over 4 MET : PAtot (MVPA + VPA)　**WARNING This is highly discutable! Not considering LVPA (Intensity = 1) in the PA total calculation**"
   ]
  },
  {
   "cell_type": "code",
   "execution_count": 6,
   "id": "0c3314a8",
   "metadata": {},
   "outputs": [],
   "source": [
    "################ VPA & MVPA based on GPAQ\n",
    "for key in data_dict:\n",
    "    # 1. Create a new columns 'Intensity GPAQ'\n",
    "    data_dict[key]['IntensityGPAQ'] = None\n",
    "    \n",
    "    # 2. Define this column according to the METs' column values\n",
    "    data_dict[key].loc[data_dict[key]['METs'] <= 1.5, 'IntensityGPAQ'] = 'sed'\n",
    "    data_dict[key].loc[(data_dict[key]['METs'] >= 4) & (data_dict[key]['METs'] <= 7.9), 'IntensityGPAQ'] = 'MVPA'\n",
    "    data_dict[key].loc[data_dict[key]['METs'] > 8, 'IntensityGPAQ'] = 'VPA'\n",
    "\n",
    "#create a new dictionary that will contain the results of Method 2\n",
    "resampled_GPAQscoring = {}\n",
    "\n",
    "for key, df in data_dict.items():\n",
    "    df['IntensityGPAQ'] = df['IntensityGPAQ'].astype('category')\n",
    "    df.index = pd.to_datetime(df.index)\n",
    "\n",
    "    # count the number of minutes per day (VPA, MVPA, sed)\n",
    "    resampled_df = pd.DataFrame()\n",
    "    resampled_df['sedMinutes_GPAQscoring'] = df[df['IntensityGPAQ'] == 'sed'].resample('D').size()\n",
    "    resampled_df['MVPAMinutes_GPAQscoring'] = df[df['IntensityGPAQ'] == 'MVPA'].resample('D').size()\n",
    "    resampled_df['VPAMinutes_GPAQscoring'] = df[df['IntensityGPAQ'] == 'VPA'].resample('D').size()\n",
    "    resampled_df = resampled_df.fillna(0)\n",
    "\n",
    "    # count the equivalent in MET per day\n",
    "    resampled_df['MVPA_GPAQscoring'] = resampled_df['MVPAMinutes_GPAQscoring'] * 4\n",
    "    resampled_df['VPA_GPAQscoring'] = resampled_df['VPAMinutes_GPAQscoring'] * 8\n",
    "    resampled_df['PAtot_GPAQscoring'] = resampled_df['MVPA_GPAQscoring'] + resampled_df['VPA_GPAQscoring']\n",
    "    resampled_df['USABLE_GPAQscoring'] = resampled_df['PAtot_GPAQscoring'].apply(lambda x: x > 0)\n",
    "\n",
    "    resampled_GPAQscoring[key] = resampled_df"
   ]
  },
  {
   "cell_type": "markdown",
   "id": "15d54ed7",
   "metadata": {},
   "source": [
    "### Gather all information, and calculate the average over 7 days"
   ]
  },
  {
   "cell_type": "code",
   "execution_count": 8,
   "id": "f4361012",
   "metadata": {},
   "outputs": [],
   "source": [
    "# Gather Method 1 and Method 2\n",
    "concat = {}\n",
    "\n",
    "for key in resampled_IntensityFITBIT.keys():\n",
    "    df1 = resampled_IntensityFITBIT[key]\n",
    "    df2 = resampled_GPAQscoring[key]\n",
    "    df3 = df1.join(df2)\n",
    "    df_filtered = df3.loc[(df3['USABLE_IntensityFITBIT'] == True) &\n",
    "                          (df3['USABLE_GPAQscoring'] == True)]\n",
    "    concat[key] = df_filtered\n",
    "    \n",
    "# Calculate the average over 7 days\n",
    "results = []\n",
    "\n",
    "for key, df in concat.items():\n",
    "    avg_sum = (df.sum()/(len(df.index)))*7\n",
    "    avg_sum['ID'] = key\n",
    "    results.append(avg_sum)\n",
    "\n",
    "result = pd.DataFrame(results)\n",
    "result.set_index('ID', inplace=True)\n",
    "result = result.sort_index()\n",
    "result = result.round(2)"
   ]
  },
  {
   "cell_type": "markdown",
   "id": "efb36bb4",
   "metadata": {},
   "source": [
    "# Saving files"
   ]
  },
  {
   "cell_type": "code",
   "execution_count": null,
   "id": "ec3bd303",
   "metadata": {},
   "outputs": [],
   "source": [
    "#concatenated files (one unique dataframe)\n",
    "saving_path = \"\" #precise your destination path\n",
    "concatenated_filename = os.path.join(saving_path, \"concatenated_data.csv\")\n",
    "result.to_csv(concatenated_filename, index=True)"
   ]
  }
 ],
 "metadata": {
  "kernelspec": {
   "display_name": "Python 3 (ipykernel)",
   "language": "python",
   "name": "python3"
  },
  "language_info": {
   "codemirror_mode": {
    "name": "ipython",
    "version": 3
   },
   "file_extension": ".py",
   "mimetype": "text/x-python",
   "name": "python",
   "nbconvert_exporter": "python",
   "pygments_lexer": "ipython3",
   "version": "3.9.13"
  }
 },
 "nbformat": 4,
 "nbformat_minor": 5
}
